{
 "cells": [
  {
   "cell_type": "code",
   "execution_count": 3,
   "id": "f70cade4",
   "metadata": {},
   "outputs": [
    {
     "name": "stdout",
     "output_type": "stream",
     "text": [
      "DataFrame is written to Excel File successfully.\n"
     ]
    }
   ],
   "source": [
    "import pandas as pd\n",
    "\n",
    "data = pd.read_csv(\"results.csv\")\n",
    "data.head()\n",
    "\n",
    "data.shape\n",
    "\n",
    "\n",
    "#Update date  for the desired report \n",
    "start_date = '2022-04-25'\n",
    "end_date = '2022-05-19'\n",
    "\n",
    "mask = (data['creationDate'] > start_date) & (data['creationDate'] <= end_date)\n",
    "\n",
    "data = data.loc[mask]\n",
    "data.dtypes\n",
    "\n",
    "data \n",
    "\n",
    "\n",
    "data[\"creationDate\"] = pd.to_datetime(data[\"creationDate\"])  \n",
    "\n",
    "\n",
    "data = data.sort_values(by=\"creationDate\", ascending=False)\n",
    "data.isnull().sum() \n",
    "\n",
    "data['creationDate'] = pd.to_datetime(data['creationDate']).dt.date \n",
    "\n",
    "\n",
    "#Alsowadetermining the name of the file\n",
    "data_file_name = 'May TSA Data.xlsx'\n",
    " \n",
    " \n",
    "#saving the excel\n",
    "data.to_excel(data_file_name)\n",
    "print('DataFrame is written to Excel File successfully.')"
   ]
  },
  {
   "cell_type": "code",
   "execution_count": null,
   "id": "3c7408fd",
   "metadata": {},
   "outputs": [],
   "source": []
  }
 ],
 "metadata": {
  "kernelspec": {
   "display_name": "Python 3",
   "language": "python",
   "name": "python3"
  },
  "language_info": {
   "codemirror_mode": {
    "name": "ipython",
    "version": 3
   },
   "file_extension": ".py",
   "mimetype": "text/x-python",
   "name": "python",
   "nbconvert_exporter": "python",
   "pygments_lexer": "ipython3",
   "version": "3.8.8"
  }
 },
 "nbformat": 4,
 "nbformat_minor": 5
}
